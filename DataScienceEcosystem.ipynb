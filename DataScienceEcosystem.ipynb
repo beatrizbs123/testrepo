{
 "cells": [
  {
   "cell_type": "markdown",
   "id": "130f1be6-2d36-439d-ac7d-861794ee8270",
   "metadata": {},
   "source": [
    "# Data Science Tools and Ecosystem"
   ]
  },
  {
   "cell_type": "markdown",
   "id": "efb14beb-2918-4358-becf-c06e3e3d309b",
   "metadata": {},
   "source": [
    "In this notebook, Data Science Tools and Ecosystem are summarized."
   ]
  },
  {
   "cell_type": "markdown",
   "id": "881c0a1a-faa7-491b-8f72-4d0fa03c2de2",
   "metadata": {},
   "source": [
    "**Objectives:**\n",
    "- list data science languages\n",
    "- list data science libraries\n",
    "- create a table of Data Science tools\n",
    "- multiply numbers\n",
    "- convert minutes to hours"
   ]
  },
  {
   "cell_type": "markdown",
   "id": "3a6af6a5-2ef7-48a7-b57b-83e9c5366bd3",
   "metadata": {},
   "source": [
    "Some of the popular languages that Data Scientists use are:\n",
    "1. Python\n",
    "2. R\n",
    "3. SQL\n",
    "4. Java\n",
    "5. JavaScript\n",
    "6. Julia\n",
    "7. C++"
   ]
  },
  {
   "cell_type": "markdown",
   "id": "b46a9997-21f4-4cdd-95d8-e625833dbe92",
   "metadata": {},
   "source": [
    "Some of the commonly used libraries used by Data Scientists include:\n",
    "1. NumPy\n",
    "2. Pandas\n",
    "3. TensorFlow\n",
    "4. Matplotlib\n",
    "5. SciPy"
   ]
  },
  {
   "cell_type": "markdown",
   "id": "98c583dc-9994-4c91-accf-ad321398a503",
   "metadata": {},
   "source": [
    "| Data Science Tools |\n",
    "| --------- |\n",
    "| Jupyter Notebook |\n",
    "| RStudio |\n",
    "| Visual Studio Code |"
   ]
  },
  {
   "cell_type": "markdown",
   "id": "513942a1-9fbf-4517-9e98-85dcd2a6332c",
   "metadata": {
    "tags": []
   },
   "source": [
    "### Below are a few examples of evaluating arithmetic expressions in Python"
   ]
  },
  {
   "cell_type": "code",
   "execution_count": 3,
   "id": "6a7c9f10-1da8-4761-846f-cfd68d85686d",
   "metadata": {
    "tags": []
   },
   "outputs": [
    {
     "data": {
      "text/plain": [
       "17"
      ]
     },
     "execution_count": 3,
     "metadata": {},
     "output_type": "execute_result"
    }
   ],
   "source": [
    "(3*4)+5\n",
    "# This a simple arithmetic expression to mutiply then add integers"
   ]
  },
  {
   "cell_type": "code",
   "execution_count": 5,
   "id": "287a3b34-8f64-466c-aa19-5847aad86f11",
   "metadata": {
    "tags": []
   },
   "outputs": [
    {
     "name": "stdout",
     "output_type": "stream",
     "text": [
      "3.3333333333333335\n"
     ]
    }
   ],
   "source": [
    "minutes = 200\n",
    "hours = minutes/60\n",
    "print (hours)\n",
    "# This will convert 200 minutes to hours by diving by 60"
   ]
  },
  {
   "cell_type": "code",
   "execution_count": null,
   "id": "288ddd7a-3c24-4335-82d0-5f358f2febb3",
   "metadata": {},
   "outputs": [],
   "source": []
  }
 ],
 "metadata": {
  "kernelspec": {
   "display_name": "Python",
   "language": "python",
   "name": "conda-env-python-py"
  },
  "language_info": {
   "codemirror_mode": {
    "name": "ipython",
    "version": 3
   },
   "file_extension": ".py",
   "mimetype": "text/x-python",
   "name": "python",
   "nbconvert_exporter": "python",
   "pygments_lexer": "ipython3",
   "version": "3.7.12"
  }
 },
 "nbformat": 4,
 "nbformat_minor": 5
}
